{
  "nbformat": 4,
  "nbformat_minor": 0,
  "metadata": {
    "colab": {
      "provenance": [],
      "authorship_tag": "ABX9TyOZ9FGH1cZAVwBl+m6bEyLG",
      "include_colab_link": true
    },
    "kernelspec": {
      "name": "python3",
      "display_name": "Python 3"
    },
    "language_info": {
      "name": "python"
    }
  },
  "cells": [
    {
      "cell_type": "markdown",
      "metadata": {
        "id": "view-in-github",
        "colab_type": "text"
      },
      "source": [
        "<a href=\"https://colab.research.google.com/github/thenoorfatima/PyTorch/blob/main/PyTorch_Tensors.ipynb\" target=\"_parent\"><img src=\"https://colab.research.google.com/assets/colab-badge.svg\" alt=\"Open In Colab\"/></a>"
      ]
    },
    {
      "cell_type": "markdown",
      "source": [],
      "metadata": {
        "id": "rUPa3FC6DKmU"
      }
    },
    {
      "cell_type": "code",
      "execution_count": null,
      "metadata": {
        "colab": {
          "base_uri": "https://localhost:8080/"
        },
        "id": "7x01DGnJRH2W",
        "outputId": "3cb39578-b3ec-4d5a-eccc-25297ed5a1de"
      },
      "outputs": [
        {
          "output_type": "stream",
          "name": "stdout",
          "text": [
            "2.4.0+cu121\n"
          ]
        }
      ],
      "source": [
        "import torch\n",
        "import pandas as pd\n",
        "import numpy as np\n",
        "import matplotlib.pyplot as plt\n",
        "print(torch.__version__)"
      ]
    },
    {
      "cell_type": "markdown",
      "source": [
        "A [torch.Tensor] is a multi-dimensional matrix containing elements of a single data type.\n",
        "\n",
        "\n"
      ],
      "metadata": {
        "id": "9MamsheKU2LQ"
      }
    },
    {
      "cell_type": "code",
      "source": [
        "scalar = torch.tensor(8)\n",
        "scalar"
      ],
      "metadata": {
        "colab": {
          "base_uri": "https://localhost:8080/"
        },
        "id": "t_K3Z7_jU6oq",
        "outputId": "414c2b6a-e67d-4726-f512-f253ad04b313"
      },
      "execution_count": null,
      "outputs": [
        {
          "output_type": "execute_result",
          "data": {
            "text/plain": [
              "tensor(8)"
            ]
          },
          "metadata": {},
          "execution_count": 53
        }
      ]
    },
    {
      "cell_type": "code",
      "source": [
        "scalar.ndim"
      ],
      "metadata": {
        "colab": {
          "base_uri": "https://localhost:8080/"
        },
        "id": "EzhMdkiaVJ8t",
        "outputId": "73066860-1885-4504-ca1d-bb5adfb0e4d0"
      },
      "execution_count": null,
      "outputs": [
        {
          "output_type": "execute_result",
          "data": {
            "text/plain": [
              "0"
            ]
          },
          "metadata": {},
          "execution_count": 54
        }
      ]
    },
    {
      "cell_type": "code",
      "source": [
        "scalar.item() #tensor got back as python int"
      ],
      "metadata": {
        "colab": {
          "base_uri": "https://localhost:8080/"
        },
        "id": "DxUmCqb7VtBL",
        "outputId": "5d17ab06-5b3e-49ea-87bf-a86d0541974c"
      },
      "execution_count": null,
      "outputs": [
        {
          "output_type": "execute_result",
          "data": {
            "text/plain": [
              "8"
            ]
          },
          "metadata": {},
          "execution_count": 55
        }
      ]
    },
    {
      "cell_type": "code",
      "source": [
        "vector = torch.tensor([1,1])\n",
        "vector"
      ],
      "metadata": {
        "colab": {
          "base_uri": "https://localhost:8080/"
        },
        "id": "rSCQ1qLIWrUC",
        "outputId": "4570e39b-414a-45f6-b675-d29630f3c621"
      },
      "execution_count": null,
      "outputs": [
        {
          "output_type": "execute_result",
          "data": {
            "text/plain": [
              "tensor([1, 1])"
            ]
          },
          "metadata": {},
          "execution_count": 56
        }
      ]
    },
    {
      "cell_type": "code",
      "source": [
        "vector.ndim #num of square braces"
      ],
      "metadata": {
        "colab": {
          "base_uri": "https://localhost:8080/"
        },
        "id": "4kFleG7hYZNm",
        "outputId": "40799530-20ca-48c8-bf9f-7b509fdf4d76"
      },
      "execution_count": null,
      "outputs": [
        {
          "output_type": "execute_result",
          "data": {
            "text/plain": [
              "1"
            ]
          },
          "metadata": {},
          "execution_count": 57
        }
      ]
    },
    {
      "cell_type": "code",
      "source": [
        "vector.shape  #.size() is function, .shape is sttribute"
      ],
      "metadata": {
        "colab": {
          "base_uri": "https://localhost:8080/"
        },
        "id": "UDTv_dgkYgxx",
        "outputId": "95f0e176-ba19-4edd-ad78-6d08f9c42ff8"
      },
      "execution_count": null,
      "outputs": [
        {
          "output_type": "execute_result",
          "data": {
            "text/plain": [
              "torch.Size([2])"
            ]
          },
          "metadata": {},
          "execution_count": 58
        }
      ]
    },
    {
      "cell_type": "code",
      "source": [
        "MATRIX = torch.tensor([[1,1],[2,2]]) #in pytorch anytime we encode data into numbers its of tensor datatype\n",
        "MATRIX"
      ],
      "metadata": {
        "colab": {
          "base_uri": "https://localhost:8080/"
        },
        "id": "UAqw-_4rYm5O",
        "outputId": "477ad408-73af-4cb6-e9db-c6c25de9e078"
      },
      "execution_count": null,
      "outputs": [
        {
          "output_type": "execute_result",
          "data": {
            "text/plain": [
              "tensor([[1, 1],\n",
              "        [2, 2]])"
            ]
          },
          "metadata": {},
          "execution_count": 59
        }
      ]
    },
    {
      "cell_type": "code",
      "source": [
        "MATRIX.ndim"
      ],
      "metadata": {
        "colab": {
          "base_uri": "https://localhost:8080/"
        },
        "id": "Xp9cbix3ZrvH",
        "outputId": "bb6d6719-acaf-4edd-a43f-88529f2a96fa"
      },
      "execution_count": null,
      "outputs": [
        {
          "output_type": "execute_result",
          "data": {
            "text/plain": [
              "2"
            ]
          },
          "metadata": {},
          "execution_count": 60
        }
      ]
    },
    {
      "cell_type": "code",
      "source": [
        "MATRIX.shape"
      ],
      "metadata": {
        "colab": {
          "base_uri": "https://localhost:8080/"
        },
        "id": "kL3fp_ptaZpo",
        "outputId": "2ded80d9-b9d1-4659-b797-5439e354b016"
      },
      "execution_count": null,
      "outputs": [
        {
          "output_type": "execute_result",
          "data": {
            "text/plain": [
              "torch.Size([2, 2])"
            ]
          },
          "metadata": {},
          "execution_count": 61
        }
      ]
    },
    {
      "cell_type": "code",
      "source": [
        "TENSOR = torch.tensor([[[1,2,3],[4,5,6],[7,8,9]]])\n",
        "TENSOR"
      ],
      "metadata": {
        "colab": {
          "base_uri": "https://localhost:8080/"
        },
        "id": "z46AIj31bdXo",
        "outputId": "60156aaf-83c3-4a04-d55d-910c67565cec"
      },
      "execution_count": null,
      "outputs": [
        {
          "output_type": "execute_result",
          "data": {
            "text/plain": [
              "tensor([[[1, 2, 3],\n",
              "         [4, 5, 6],\n",
              "         [7, 8, 9]]])"
            ]
          },
          "metadata": {},
          "execution_count": 62
        }
      ]
    },
    {
      "cell_type": "code",
      "source": [
        "TENSOR.ndim"
      ],
      "metadata": {
        "colab": {
          "base_uri": "https://localhost:8080/"
        },
        "id": "KHRFnxhhbo-I",
        "outputId": "e6e73155-24a9-44e4-c6d0-f8a37c2ba175"
      },
      "execution_count": null,
      "outputs": [
        {
          "output_type": "execute_result",
          "data": {
            "text/plain": [
              "3"
            ]
          },
          "metadata": {},
          "execution_count": 63
        }
      ]
    },
    {
      "cell_type": "code",
      "source": [
        "TENSOR.shape"
      ],
      "metadata": {
        "colab": {
          "base_uri": "https://localhost:8080/"
        },
        "id": "Xrjhi6WGbzuP",
        "outputId": "0905d8b9-aca6-4b6b-ff8f-e261f2e8ff26"
      },
      "execution_count": null,
      "outputs": [
        {
          "output_type": "execute_result",
          "data": {
            "text/plain": [
              "torch.Size([1, 3, 3])"
            ]
          },
          "metadata": {},
          "execution_count": 64
        }
      ]
    },
    {
      "cell_type": "code",
      "source": [
        "random_tensor = torch.rand(3,4)\n",
        "random_tensor"
      ],
      "metadata": {
        "colab": {
          "base_uri": "https://localhost:8080/"
        },
        "id": "RViaeznbkeJ2",
        "outputId": "53e5d47d-0adf-4065-92a5-417bf4379202"
      },
      "execution_count": null,
      "outputs": [
        {
          "output_type": "execute_result",
          "data": {
            "text/plain": [
              "tensor([[0.1767, 0.3312, 0.8078, 0.1299],\n",
              "        [0.2104, 0.6884, 0.6341, 0.0357],\n",
              "        [0.3311, 0.6387, 0.9791, 0.5967]])"
            ]
          },
          "metadata": {},
          "execution_count": 65
        }
      ]
    },
    {
      "cell_type": "code",
      "source": [
        "random_tensor.ndim"
      ],
      "metadata": {
        "colab": {
          "base_uri": "https://localhost:8080/"
        },
        "id": "ZNVZANvWksGO",
        "outputId": "b569a230-61f8-48f3-abe5-6ef0cffc6f81"
      },
      "execution_count": null,
      "outputs": [
        {
          "output_type": "execute_result",
          "data": {
            "text/plain": [
              "2"
            ]
          },
          "metadata": {},
          "execution_count": 66
        }
      ]
    },
    {
      "cell_type": "code",
      "source": [
        "# Random tensor with similar shape to image tensor\n",
        "rimage = torch.rand(224,224,3) #height,width,color channels\n",
        "rimage.shape, rimage.ndim"
      ],
      "metadata": {
        "colab": {
          "base_uri": "https://localhost:8080/"
        },
        "id": "acAhN_grnoeg",
        "outputId": "d6341be6-cc33-4953-9eda-6653e475a460"
      },
      "execution_count": null,
      "outputs": [
        {
          "output_type": "execute_result",
          "data": {
            "text/plain": [
              "(torch.Size([224, 224, 3]), 3)"
            ]
          },
          "metadata": {},
          "execution_count": 67
        }
      ]
    },
    {
      "cell_type": "code",
      "source": [
        "zeros = torch.zeros(3,3)\n",
        "zeros+1"
      ],
      "metadata": {
        "colab": {
          "base_uri": "https://localhost:8080/"
        },
        "id": "vKUKuHWxo88L",
        "outputId": "48a86921-ec6e-4001-cbfe-f920e81fa234"
      },
      "execution_count": null,
      "outputs": [
        {
          "output_type": "execute_result",
          "data": {
            "text/plain": [
              "tensor([[1., 1., 1.],\n",
              "        [1., 1., 1.],\n",
              "        [1., 1., 1.]])"
            ]
          },
          "metadata": {},
          "execution_count": 68
        }
      ]
    },
    {
      "cell_type": "code",
      "source": [
        "ones = torch.ones(3,3)\n",
        "ones"
      ],
      "metadata": {
        "colab": {
          "base_uri": "https://localhost:8080/"
        },
        "id": "OKQXYZAzpPtb",
        "outputId": "815549aa-2169-49e4-9d1d-1ea02414447e"
      },
      "execution_count": null,
      "outputs": [
        {
          "output_type": "execute_result",
          "data": {
            "text/plain": [
              "tensor([[1., 1., 1.],\n",
              "        [1., 1., 1.],\n",
              "        [1., 1., 1.]])"
            ]
          },
          "metadata": {},
          "execution_count": 69
        }
      ]
    },
    {
      "cell_type": "code",
      "source": [
        "torch.arange(0,10)"
      ],
      "metadata": {
        "colab": {
          "base_uri": "https://localhost:8080/"
        },
        "id": "dNwQxRtepkt1",
        "outputId": "c588f3df-4e37-4597-ddba-7aa307fb73f4"
      },
      "execution_count": null,
      "outputs": [
        {
          "output_type": "execute_result",
          "data": {
            "text/plain": [
              "tensor([0, 1, 2, 3, 4, 5, 6, 7, 8, 9])"
            ]
          },
          "metadata": {},
          "execution_count": 70
        }
      ]
    },
    {
      "cell_type": "code",
      "source": [
        "a= torch.arange(0,100,20)\n",
        "a"
      ],
      "metadata": {
        "colab": {
          "base_uri": "https://localhost:8080/"
        },
        "id": "Os9rfwsUpynS",
        "outputId": "b55dbf76-bba6-4c7a-d70e-abd7ee9e6b29"
      },
      "execution_count": null,
      "outputs": [
        {
          "output_type": "execute_result",
          "data": {
            "text/plain": [
              "tensor([ 0, 20, 40, 60, 80])"
            ]
          },
          "metadata": {},
          "execution_count": 71
        }
      ]
    },
    {
      "cell_type": "code",
      "source": [
        "b = torch.zeros_like(a)\n",
        "b"
      ],
      "metadata": {
        "colab": {
          "base_uri": "https://localhost:8080/"
        },
        "id": "1aJ8f7wrqcr6",
        "outputId": "ad9ad6bc-c195-4175-8417-a16c67c37453"
      },
      "execution_count": null,
      "outputs": [
        {
          "output_type": "execute_result",
          "data": {
            "text/plain": [
              "tensor([0, 0, 0, 0, 0])"
            ]
          },
          "metadata": {},
          "execution_count": 72
        }
      ]
    },
    {
      "cell_type": "markdown",
      "source": [
        "3 Major errors in PyTorch and DL\n",
        "\n",
        "\n",
        "1.   Tensors not of right datatype\n",
        "2.   not the right shape\n",
        "3.   not on the right device\n",
        "\n",
        "\n"
      ],
      "metadata": {
        "id": "DFySuMelrZk9"
      }
    },
    {
      "cell_type": "code",
      "source": [
        "d = torch.tensor([1,2,3],dtype=None, device = \"cpu\", requires_grad = False)\n",
        "d"
      ],
      "metadata": {
        "colab": {
          "base_uri": "https://localhost:8080/"
        },
        "id": "qQKulxgerxe9",
        "outputId": "dbb15e21-d3a6-4c55-ac64-612ee698fc36"
      },
      "execution_count": null,
      "outputs": [
        {
          "output_type": "execute_result",
          "data": {
            "text/plain": [
              "tensor([1, 2, 3])"
            ]
          },
          "metadata": {},
          "execution_count": 83
        }
      ]
    },
    {
      "cell_type": "code",
      "source": [
        "f16 = d.type(torch.float16)\n",
        "print(f\"The tensor is of {f16.dtype} dataype, {f16.shape} shape and is on {f16.device} device.\")"
      ],
      "metadata": {
        "colab": {
          "base_uri": "https://localhost:8080/"
        },
        "id": "yTFPVAGQIsK_",
        "outputId": "e2dbd076-607d-4e70-81d1-b7cb6a28849f"
      },
      "execution_count": null,
      "outputs": [
        {
          "output_type": "stream",
          "name": "stdout",
          "text": [
            "The tensor is of torch.float16 dataype, torch.Size([3]) shape and is on cpu device.\n"
          ]
        }
      ]
    },
    {
      "cell_type": "code",
      "source": [
        "print(f\"Matrix multiplication in NN DL torch. matmul(d,d) = {torch.matmul(d,d)}, torch.mm(d,d) and d @ d= {d @ d}\")\n",
        "# inner dim must match\n",
        "# output matrix has dim of outer dim"
      ],
      "metadata": {
        "colab": {
          "base_uri": "https://localhost:8080/"
        },
        "id": "p2Qkr-ByNTyV",
        "outputId": "d5fb234b-06b5-40b2-cc9f-b683b0710ab3"
      },
      "execution_count": null,
      "outputs": [
        {
          "output_type": "stream",
          "name": "stdout",
          "text": [
            "Matrix multiplication in NN DL torch. matmul(d,d) = 14, torch.mm(d,d) and d @ d= 14\n"
          ]
        }
      ]
    },
    {
      "cell_type": "code",
      "source": [
        "# Using Transpose to fix the axes or dimensions of a matrix to be able to matmul\n",
        "c = torch.rand(2,3)\n",
        "e = c.T\n",
        "c,e"
      ],
      "metadata": {
        "colab": {
          "base_uri": "https://localhost:8080/"
        },
        "id": "YsxJeGxFOmhc",
        "outputId": "77b39c50-95fa-412d-9aca-6452dfa046aa"
      },
      "execution_count": null,
      "outputs": [
        {
          "output_type": "execute_result",
          "data": {
            "text/plain": [
              "(tensor([[0.8394, 0.6718, 0.5277],\n",
              "         [0.2503, 0.9427, 0.1417]]),\n",
              " tensor([[0.8394, 0.2503],\n",
              "         [0.6718, 0.9427],\n",
              "         [0.5277, 0.1417]]))"
            ]
          },
          "metadata": {},
          "execution_count": 84
        }
      ]
    },
    {
      "cell_type": "code",
      "source": [
        "# Tensor Aggregation - min, max, sum, mean\n",
        "x = torch.tensor([1.0,2.0,3.0]) # mean() needs float32\n",
        "torch.min(d), d.min(), d.max(), d.sum(), x.mean(), d.type(torch.float32).mean(), torch.mean(d.type(torch.float32))"
      ],
      "metadata": {
        "colab": {
          "base_uri": "https://localhost:8080/"
        },
        "id": "ecC1RulqWD-e",
        "outputId": "8848fe6f-682c-4a5b-9ed2-bd8d50406fbe"
      },
      "execution_count": null,
      "outputs": [
        {
          "output_type": "execute_result",
          "data": {
            "text/plain": [
              "(tensor(1),\n",
              " tensor(1),\n",
              " tensor(3),\n",
              " tensor(6),\n",
              " tensor(2.),\n",
              " tensor(2.),\n",
              " tensor(2.))"
            ]
          },
          "metadata": {},
          "execution_count": 96
        }
      ]
    },
    {
      "cell_type": "code",
      "source": [
        "# Positional min and max, argmin/max -> returns index\n",
        "x.argmin(), x.argmax(), x[2]"
      ],
      "metadata": {
        "colab": {
          "base_uri": "https://localhost:8080/"
        },
        "id": "K_h-F7scaQsY",
        "outputId": "329be51b-e6ce-4c7b-c4ad-3232f000b18f"
      },
      "execution_count": null,
      "outputs": [
        {
          "output_type": "execute_result",
          "data": {
            "text/plain": [
              "(tensor(0), tensor(2), tensor(3.))"
            ]
          },
          "metadata": {},
          "execution_count": 98
        }
      ]
    },
    {
      "cell_type": "markdown",
      "source": [
        "Reshaping, Stacking, Squeezing, Unsqueezing tensors\n",
        "\n",
        "\n",
        "*   Reshaping -> input tensor reshaped to defined shape\n",
        "*   view -> just a temporary shape image\n",
        "*   stacking -> combine multiple tensors on top of each vstack/ hstack\n",
        "*   squeeze -> remove all 1 dimensions from a tensor\n",
        "*   unsqueeze -> add a 1 dim to a tensor\n",
        "*   permute -> returns a view of input with axes/dim rearranged/swapped\n",
        "\n",
        "\n"
      ],
      "metadata": {
        "id": "SxeWEri6j2Yr"
      }
    },
    {
      "cell_type": "code",
      "source": [
        "import torch\n",
        "x= torch.arange(1,10)\n",
        "x, x.shape"
      ],
      "metadata": {
        "id": "5SncmKwlbB0M",
        "colab": {
          "base_uri": "https://localhost:8080/"
        },
        "outputId": "868e4ccb-e090-45ff-bea5-d88e706592bc"
      },
      "execution_count": 140,
      "outputs": [
        {
          "output_type": "execute_result",
          "data": {
            "text/plain": [
              "(tensor([1, 2, 3, 4, 5, 6, 7, 8, 9]), torch.Size([9]))"
            ]
          },
          "metadata": {},
          "execution_count": 140
        }
      ]
    },
    {
      "cell_type": "code",
      "source": [
        "# adding extra dim\n",
        "xnew = x.reshape(1,9)\n",
        "xnew, xnew.shape"
      ],
      "metadata": {
        "colab": {
          "base_uri": "https://localhost:8080/"
        },
        "id": "XdNiGbEBpODt",
        "outputId": "41c101ba-8d5a-4522-f461-686463a7f628"
      },
      "execution_count": 141,
      "outputs": [
        {
          "output_type": "execute_result",
          "data": {
            "text/plain": [
              "(tensor([[1, 2, 3, 4, 5, 6, 7, 8, 9]]), torch.Size([1, 9]))"
            ]
          },
          "metadata": {},
          "execution_count": 141
        }
      ]
    },
    {
      "cell_type": "code",
      "source": [
        "# view\n",
        "z = x.view(1,9)\n",
        "z, z.shape\n"
      ],
      "metadata": {
        "colab": {
          "base_uri": "https://localhost:8080/"
        },
        "id": "MSv8hL_kpoan",
        "outputId": "95f29373-a4b6-4386-9d73-2332838ca017"
      },
      "execution_count": 142,
      "outputs": [
        {
          "output_type": "execute_result",
          "data": {
            "text/plain": [
              "(tensor([[1, 2, 3, 4, 5, 6, 7, 8, 9]]), torch.Size([1, 9]))"
            ]
          },
          "metadata": {},
          "execution_count": 142
        }
      ]
    },
    {
      "cell_type": "code",
      "source": [
        "# changing z changes x, coz they share same memory\n",
        "z[:,0] = 5\n",
        "z,x"
      ],
      "metadata": {
        "colab": {
          "base_uri": "https://localhost:8080/"
        },
        "id": "krpw23-qs9fK",
        "outputId": "79ea678e-d546-49db-c4ce-9bee31282900"
      },
      "execution_count": 143,
      "outputs": [
        {
          "output_type": "execute_result",
          "data": {
            "text/plain": [
              "(tensor([[5, 2, 3, 4, 5, 6, 7, 8, 9]]), tensor([5, 2, 3, 4, 5, 6, 7, 8, 9]))"
            ]
          },
          "metadata": {},
          "execution_count": 143
        }
      ]
    },
    {
      "cell_type": "code",
      "source": [
        "# stack\n",
        "xstack = torch.stack([x,x,x,x], dim = 1)\n",
        "xstack"
      ],
      "metadata": {
        "colab": {
          "base_uri": "https://localhost:8080/"
        },
        "id": "44HEJjsStQ80",
        "outputId": "452a86d9-0537-4942-aea2-5455085d8289"
      },
      "execution_count": 144,
      "outputs": [
        {
          "output_type": "execute_result",
          "data": {
            "text/plain": [
              "tensor([[5, 5, 5, 5],\n",
              "        [2, 2, 2, 2],\n",
              "        [3, 3, 3, 3],\n",
              "        [4, 4, 4, 4],\n",
              "        [5, 5, 5, 5],\n",
              "        [6, 6, 6, 6],\n",
              "        [7, 7, 7, 7],\n",
              "        [8, 8, 8, 8],\n",
              "        [9, 9, 9, 9]])"
            ]
          },
          "metadata": {},
          "execution_count": 144
        }
      ]
    },
    {
      "cell_type": "code",
      "source": [
        "# squeeze\n",
        "xnew, xnew.shape, xnew.squeeze(), xnew.squeeze().shape"
      ],
      "metadata": {
        "colab": {
          "base_uri": "https://localhost:8080/"
        },
        "id": "L4MPUzhiuSSl",
        "outputId": "a43b102f-5844-47ed-f642-f1a3f1d2a5a9"
      },
      "execution_count": 145,
      "outputs": [
        {
          "output_type": "execute_result",
          "data": {
            "text/plain": [
              "(tensor([[5, 2, 3, 4, 5, 6, 7, 8, 9]]),\n",
              " torch.Size([1, 9]),\n",
              " tensor([5, 2, 3, 4, 5, 6, 7, 8, 9]),\n",
              " torch.Size([9]))"
            ]
          },
          "metadata": {},
          "execution_count": 145
        }
      ]
    },
    {
      "cell_type": "code",
      "source": [
        "# unsqueeze\n",
        "xnew, xnew.shape, xnew.unsqueeze(dim = 0), xnew.unsqueeze(dim = 0).shape"
      ],
      "metadata": {
        "colab": {
          "base_uri": "https://localhost:8080/"
        },
        "id": "XQMYEM-Evj2x",
        "outputId": "115bd7e6-0c53-427f-b69e-841c5a4f94a7"
      },
      "execution_count": 146,
      "outputs": [
        {
          "output_type": "execute_result",
          "data": {
            "text/plain": [
              "(tensor([[5, 2, 3, 4, 5, 6, 7, 8, 9]]),\n",
              " torch.Size([1, 9]),\n",
              " tensor([[[5, 2, 3, 4, 5, 6, 7, 8, 9]]]),\n",
              " torch.Size([1, 1, 9]))"
            ]
          },
          "metadata": {},
          "execution_count": 146
        }
      ]
    },
    {
      "cell_type": "code",
      "source": [
        "#permute\n",
        "img = torch.rand(224,224,3) # height, width, color channels # shares view\n",
        "\n",
        "perm = img.permute(2,0,1)   # shifts axes 0->1, 1->2, 2->0\n",
        "perm.shape                  # color channels, height, width\n"
      ],
      "metadata": {
        "colab": {
          "base_uri": "https://localhost:8080/"
        },
        "id": "eXh3_WviwTGx",
        "outputId": "defee49d-ed5b-4f14-8dc7-c9baf2109623"
      },
      "execution_count": 147,
      "outputs": [
        {
          "output_type": "execute_result",
          "data": {
            "text/plain": [
              "torch.Size([3, 224, 224])"
            ]
          },
          "metadata": {},
          "execution_count": 147
        }
      ]
    },
    {
      "cell_type": "code",
      "source": [
        "# INDEXING\n",
        "i = x.reshape(1,3,3)\n",
        "x, x.shape, i, i.shape"
      ],
      "metadata": {
        "colab": {
          "base_uri": "https://localhost:8080/"
        },
        "id": "Zkj_J2ZbzjtJ",
        "outputId": "df7011d1-e12b-435a-c83c-d8c501934fb3"
      },
      "execution_count": 148,
      "outputs": [
        {
          "output_type": "execute_result",
          "data": {
            "text/plain": [
              "(tensor([5, 2, 3, 4, 5, 6, 7, 8, 9]),\n",
              " torch.Size([9]),\n",
              " tensor([[[5, 2, 3],\n",
              "          [4, 5, 6],\n",
              "          [7, 8, 9]]]),\n",
              " torch.Size([1, 3, 3]))"
            ]
          },
          "metadata": {},
          "execution_count": 148
        }
      ]
    },
    {
      "cell_type": "code",
      "source": [
        "i[0], i[0][0], i[0][0][0]"
      ],
      "metadata": {
        "colab": {
          "base_uri": "https://localhost:8080/"
        },
        "id": "rEh2XKeRz-aX",
        "outputId": "e83b6a00-d66f-406c-e3ae-3ebfc592fd83"
      },
      "execution_count": 149,
      "outputs": [
        {
          "output_type": "execute_result",
          "data": {
            "text/plain": [
              "(tensor([[5, 2, 3],\n",
              "         [4, 5, 6],\n",
              "         [7, 8, 9]]),\n",
              " tensor([5, 2, 3]),\n",
              " tensor(5))"
            ]
          },
          "metadata": {},
          "execution_count": 149
        }
      ]
    },
    {
      "cell_type": "code",
      "source": [
        "i[:,0], i[:,:,1], i[0,0,1], i[:, 1, 1], i[0,1,1], i[0,2,2], i[:,:,2]"
      ],
      "metadata": {
        "colab": {
          "base_uri": "https://localhost:8080/"
        },
        "id": "YHdwc3iW1CH0",
        "outputId": "9309d819-84ff-4ad7-eb52-5ea1a3f5eeba"
      },
      "execution_count": 153,
      "outputs": [
        {
          "output_type": "execute_result",
          "data": {
            "text/plain": [
              "(tensor([[5, 2, 3]]),\n",
              " tensor([[2, 5, 8]]),\n",
              " tensor(2),\n",
              " tensor([5]),\n",
              " tensor(5),\n",
              " tensor(9),\n",
              " tensor([[3, 6, 9]]))"
            ]
          },
          "metadata": {},
          "execution_count": 153
        }
      ]
    },
    {
      "cell_type": "markdown",
      "source": [
        "PyTorch Tensors and NumPy\n",
        "\n",
        "\n",
        "\n",
        "*   Numpy to torch tensor -> torch.from_numpy(a)\n",
        "*   Tensor to numpy       -> torch.Tensor.numpy()\n",
        "\n"
      ],
      "metadata": {
        "id": "8fNnZilZ-Qmv"
      }
    },
    {
      "cell_type": "code",
      "source": [
        "import torch  # with this method default dtype of array and tensor (due to numpy) = float64 otherwise tensor = float32\n",
        "import numpy as np\n",
        "\n",
        "a = np.arange(1.0,8.0)\n",
        "tensor = torch.from_numpy(a)  # numpy to torch\n",
        "a, tensor, a+1 # change to numpy doesnt change tensor"
      ],
      "metadata": {
        "colab": {
          "base_uri": "https://localhost:8080/"
        },
        "id": "h9YQhzjf-cUE",
        "outputId": "a68c3085-5ab2-407f-fc67-1f1d1f7157b4"
      },
      "execution_count": 162,
      "outputs": [
        {
          "output_type": "execute_result",
          "data": {
            "text/plain": [
              "(array([1., 2., 3., 4., 5., 6., 7.]),\n",
              " tensor([1., 2., 3., 4., 5., 6., 7.], dtype=torch.float64),\n",
              " array([2., 3., 4., 5., 6., 7., 8.]))"
            ]
          },
          "metadata": {},
          "execution_count": 162
        }
      ]
    },
    {
      "cell_type": "code",
      "source": [
        "t = torch.arange(0,10)\n",
        "n = t.numpy()\n",
        "n, t, n.dtype, t.dtype"
      ],
      "metadata": {
        "colab": {
          "base_uri": "https://localhost:8080/"
        },
        "id": "8Lpy4SvGCU2x",
        "outputId": "a6d54f02-14bd-448d-8180-14409952e3f3"
      },
      "execution_count": 163,
      "outputs": [
        {
          "output_type": "execute_result",
          "data": {
            "text/plain": [
              "(array([0, 1, 2, 3, 4, 5, 6, 7, 8, 9]),\n",
              " tensor([0, 1, 2, 3, 4, 5, 6, 7, 8, 9]),\n",
              " dtype('int64'),\n",
              " torch.int64)"
            ]
          },
          "metadata": {},
          "execution_count": 163
        }
      ]
    },
    {
      "cell_type": "markdown",
      "source": [
        "Reproducibility -> Reduce the randomness in NN and PyTorch using Random Seed. It flavours the randomness.\n",
        "\n",
        "> NN: start with random nos -> tensor operations -> update random nos\n",
        "\n"
      ],
      "metadata": {
        "id": "zZw_ThRHPywl"
      }
    },
    {
      "cell_type": "code",
      "source": [
        "import torch\n",
        "RSEED = 12\n",
        "torch.manual_seed(RSEED)\n",
        "C = torch.rand(3,4)\n",
        "\n",
        "torch.manual_seed(RSEED)\n",
        "D = torch.rand(3,4)\n",
        "C,D, C==D"
      ],
      "metadata": {
        "colab": {
          "base_uri": "https://localhost:8080/"
        },
        "id": "i07E4ep_QR7a",
        "outputId": "346edef3-5c05-4cfd-f3fb-77d9c5db34ef"
      },
      "execution_count": 3,
      "outputs": [
        {
          "output_type": "execute_result",
          "data": {
            "text/plain": [
              "(tensor([[0.4657, 0.2328, 0.4527, 0.5871],\n",
              "         [0.4086, 0.1272, 0.6373, 0.2421],\n",
              "         [0.7312, 0.7224, 0.1992, 0.6948]]),\n",
              " tensor([[0.4657, 0.2328, 0.4527, 0.5871],\n",
              "         [0.4086, 0.1272, 0.6373, 0.2421],\n",
              "         [0.7312, 0.7224, 0.1992, 0.6948]]),\n",
              " tensor([[True, True, True, True],\n",
              "         [True, True, True, True],\n",
              "         [True, True, True, True]]))"
            ]
          },
          "metadata": {},
          "execution_count": 3
        }
      ]
    },
    {
      "cell_type": "code",
      "source": [
        "torch.cuda.is_available() # device agnostic code. This means code that'll run on CPU (always available) or GPU (if available)."
      ],
      "metadata": {
        "colab": {
          "base_uri": "https://localhost:8080/"
        },
        "id": "qlyY0TQ6UFfN",
        "outputId": "098cfef4-f7df-4186-d6fd-c34476a73f70"
      },
      "execution_count": 4,
      "outputs": [
        {
          "output_type": "execute_result",
          "data": {
            "text/plain": [
              "False"
            ]
          },
          "metadata": {},
          "execution_count": 4
        }
      ]
    },
    {
      "cell_type": "code",
      "source": [
        "# Check for GPU\n",
        "import torch\n",
        "torch.cuda.is_available()"
      ],
      "metadata": {
        "colab": {
          "base_uri": "https://localhost:8080/"
        },
        "id": "Ey0RG-2NYGRS",
        "outputId": "86bb0737-f919-4beb-e9ac-478747198bfe"
      },
      "execution_count": 6,
      "outputs": [
        {
          "output_type": "execute_result",
          "data": {
            "text/plain": [
              "False"
            ]
          },
          "metadata": {},
          "execution_count": 6
        }
      ]
    },
    {
      "cell_type": "code",
      "source": [
        "# Set device type\n",
        "device = \"cuda\" if torch.cuda.is_available() else \"cpu\"\n",
        "device"
      ],
      "metadata": {
        "colab": {
          "base_uri": "https://localhost:8080/",
          "height": 41
        },
        "id": "CSgkYegAYO7i",
        "outputId": "2053807d-502d-44fc-f31c-fce464edaf1a"
      },
      "execution_count": 7,
      "outputs": [
        {
          "output_type": "execute_result",
          "data": {
            "text/plain": [
              "'cpu'"
            ],
            "application/vnd.google.colaboratory.intrinsic+json": {
              "type": "string"
            }
          },
          "metadata": {},
          "execution_count": 7
        }
      ]
    },
    {
      "cell_type": "code",
      "source": [
        "# Count number of devices\n",
        "torch.cuda.device_count()"
      ],
      "metadata": {
        "colab": {
          "base_uri": "https://localhost:8080/"
        },
        "id": "ZDUMqQ2iYSPl",
        "outputId": "bfc3d929-3de4-46ec-8e77-667aa926ea95"
      },
      "execution_count": 8,
      "outputs": [
        {
          "output_type": "execute_result",
          "data": {
            "text/plain": [
              "0"
            ]
          },
          "metadata": {},
          "execution_count": 8
        }
      ]
    },
    {
      "cell_type": "code",
      "source": [
        "# Create tensor (default on CPU)\n",
        "tensor = torch.tensor([1, 2, 3])\n",
        "\n",
        "# Tensor not on GPU\n",
        "print(tensor, tensor.device)\n",
        "\n",
        "# Move tensor to GPU (if available)\n",
        "tensor_on_gpu = tensor.to(device)\n",
        "tensor_on_gpu"
      ],
      "metadata": {
        "colab": {
          "base_uri": "https://localhost:8080/"
        },
        "id": "oXhRBKw-YZUU",
        "outputId": "8990a0a2-3fa8-4157-f6c3-ce605e710ad1"
      },
      "execution_count": 9,
      "outputs": [
        {
          "output_type": "stream",
          "name": "stdout",
          "text": [
            "tensor([1, 2, 3]) cpu\n"
          ]
        },
        {
          "output_type": "execute_result",
          "data": {
            "text/plain": [
              "tensor([1, 2, 3])"
            ]
          },
          "metadata": {},
          "execution_count": 9
        }
      ]
    },
    {
      "cell_type": "code",
      "source": [
        "tensor_back_on_cpu = tensor_on_gpu.cpu().numpy()\n",
        "tensor_back_on_cpu"
      ],
      "metadata": {
        "colab": {
          "base_uri": "https://localhost:8080/"
        },
        "id": "TY2wQkETaw2t",
        "outputId": "2f310ad5-1f6a-4ff9-f915-0903404277b3"
      },
      "execution_count": 10,
      "outputs": [
        {
          "output_type": "execute_result",
          "data": {
            "text/plain": [
              "array([1, 2, 3])"
            ]
          },
          "metadata": {},
          "execution_count": 10
        }
      ]
    },
    {
      "cell_type": "code",
      "source": [
        "tensor_on_gpu\n"
      ],
      "metadata": {
        "colab": {
          "base_uri": "https://localhost:8080/"
        },
        "id": "ix9vKreWa0ed",
        "outputId": "e8f6bdaf-a7de-4a4e-a36a-ed3f12a112b0"
      },
      "execution_count": 11,
      "outputs": [
        {
          "output_type": "execute_result",
          "data": {
            "text/plain": [
              "tensor([1, 2, 3])"
            ]
          },
          "metadata": {},
          "execution_count": 11
        }
      ]
    }
  ]
}