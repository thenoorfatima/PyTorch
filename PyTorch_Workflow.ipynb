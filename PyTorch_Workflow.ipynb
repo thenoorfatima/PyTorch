{
  "nbformat": 4,
  "nbformat_minor": 0,
  "metadata": {
    "colab": {
      "provenance": [],
      "authorship_tag": "ABX9TyNfsMLMSyC6C9DMUOfiIgA5",
      "include_colab_link": true
    },
    "kernelspec": {
      "name": "python3",
      "display_name": "Python 3"
    },
    "language_info": {
      "name": "python"
    }
  },
  "cells": [
    {
      "cell_type": "markdown",
      "metadata": {
        "id": "view-in-github",
        "colab_type": "text"
      },
      "source": [
        "<a href=\"https://colab.research.google.com/github/thenoorfatima/PyTorch/blob/main/PyTorch_Workflow.ipynb\" target=\"_parent\"><img src=\"https://colab.research.google.com/assets/colab-badge.svg\" alt=\"Open In Colab\"/></a>"
      ]
    },
    {
      "cell_type": "markdown",
      "source": [
        "Data Preparing and Loading\n",
        "1. Turn data into numerical format (numerical encoding).\n",
        "2. Build models to learn patterns/features/weights in those numbers."
      ],
      "metadata": {
        "id": "uv_OeIhf-KUy"
      }
    },
    {
      "cell_type": "code",
      "source": [
        "## Creating known parameters using linear regression formula (y= mx + c) make a straight line.\n",
        "import torch\n",
        "import matplotlib.pyplot as plt\n",
        "\n",
        "weight = 0.7  # m\n",
        "bias = 0.3    # c\n",
        "\n",
        "start = 0\n",
        "end = 1\n",
        "step = 0.02\n",
        "X = torch.arange(start, end, step).unsqueeze(dim=1) # X capital since a tensor\n",
        "y = weight * X + bias                               # Xfeatures ylabels tensors\n",
        "\n",
        "X[:10], y[:10], len(X), len(y)"
      ],
      "metadata": {
        "colab": {
          "base_uri": "https://localhost:8080/"
        },
        "id": "GJUgVVtQ-Emu",
        "outputId": "92ca2224-24b3-47c9-901e-f03fbfe50e60"
      },
      "execution_count": 1,
      "outputs": [
        {
          "output_type": "execute_result",
          "data": {
            "text/plain": [
              "(tensor([[0.0000],\n",
              "         [0.0200],\n",
              "         [0.0400],\n",
              "         [0.0600],\n",
              "         [0.0800],\n",
              "         [0.1000],\n",
              "         [0.1200],\n",
              "         [0.1400],\n",
              "         [0.1600],\n",
              "         [0.1800]]),\n",
              " tensor([[0.3000],\n",
              "         [0.3140],\n",
              "         [0.3280],\n",
              "         [0.3420],\n",
              "         [0.3560],\n",
              "         [0.3700],\n",
              "         [0.3840],\n",
              "         [0.3980],\n",
              "         [0.4120],\n",
              "         [0.4260]]),\n",
              " 50,\n",
              " 50)"
            ]
          },
          "metadata": {},
          "execution_count": 1
        }
      ]
    },
    {
      "cell_type": "code",
      "source": [
        "## Split data into training and test set\n",
        "\n",
        "train_split = int(0.8 * len(X))\n",
        "X_train, y_train = X[:train_split], y[:train_split]  #everything upto the split\n",
        "X_test, y_test = X[train_split:], y[train_split:]    #everything onwards the split\n",
        "\n",
        "len(X_train), len(y_train), len(X_test), len(y_test)"
      ],
      "metadata": {
        "colab": {
          "base_uri": "https://localhost:8080/"
        },
        "id": "ncWIyOLZClTy",
        "outputId": "380a9cdd-9e8f-4827-a7f2-7baa367ec194"
      },
      "execution_count": 2,
      "outputs": [
        {
          "output_type": "execute_result",
          "data": {
            "text/plain": [
              "(40, 40, 10, 10)"
            ]
          },
          "metadata": {},
          "execution_count": 2
        }
      ]
    },
    {
      "cell_type": "code",
      "source": [
        "## Visualization = plot training and test data\n",
        "\n",
        "def plt_predict(train_data = X_train,\n",
        "                     train_labels = y_train,\n",
        "                     test_data = X_test,\n",
        "                     test_labels = y_test, predictions = None):\n",
        "\n",
        "  plt.figure(figsize=(10,7))\n",
        "\n",
        "  plt.scatter(train_data, train_labels, c='b',s=4, label='Training data')\n",
        "  plt.scatter(test_data, test_labels, c='g',s=4, label='Testing data')\n",
        "\n",
        "  if predictions is not None:\n",
        "      plt.scatter(test_data, predictions, c='r',s=4, label='Predictions')\n",
        "\n",
        "  plt.legend(prop={'size': 14})"
      ],
      "metadata": {
        "id": "HnRxEaPbF5qG"
      },
      "execution_count": 3,
      "outputs": []
    },
    {
      "cell_type": "code",
      "source": [
        "  plt_predict()"
      ],
      "metadata": {
        "colab": {
          "base_uri": "https://localhost:8080/",
          "height": 599
        },
        "id": "-xEnUx_iKSok",
        "outputId": "84356ae8-9076-4362-8d40-5847b2ea0b6e"
      },
      "execution_count": 4,
      "outputs": [
        {
          "output_type": "display_data",
          "data": {
            "text/plain": [
              "<Figure size 1000x700 with 1 Axes>"
            ],
            "image/png": "[encoded data removed]"
          },
          "metadata": {}
        }
      ]
    },
    {
      "cell_type": "markdown",
      "source": [
        "nn module:\n",
        "\n",
        "1. almost everything inherits from it in pytorch\n",
        "2. contains all pytorch's building blocks for neuralnets/graphs\n",
        "3. base class for all nn modules\n",
        "4. our models should also subclass this class\n",
        "\n",
        "# Creating Linear Regression Model Class\n",
        "1. Start with random values: weights and bias.\n",
        "2. Look at training data and adjust random values to get closer to ideal values: Optimization (w & b values used to create the data)\n",
        "3. Using Gradient Descent and Backpropagation algos.\n",
        "4. Requires_grad=True means PyTorch will track the gradients of this parameter for use with torch.autograd and gradient descent (for many torch.nn modules, requires_grad=True is set by default)\n",
        "5. Any subclass of nn Module needs to override \"forward()\", the forward computation of the model. Forward method defines computation/ operation performed at every call\n",
        "\n"
      ],
      "metadata": {
        "id": "kUGKr9wVN608"
      }
    },
    {
      "cell_type": "code",
      "source": [
        "import torch\n",
        "from torch import nn\n",
        "\n",
        "class linreg(nn.Module):                              #subclass nn\n",
        "  def __init__(self):\n",
        "    super().__init__()\n",
        "    self.weights = nn.Parameter(torch.randn(1,\n",
        "                                            requires_grad=True,  # to perform backprop\n",
        "                                            dtype= torch.float))\n",
        "    self.bias = nn.Parameter(torch.randn(1,\n",
        "                                            requires_grad=True,\n",
        "                                            dtype= torch.float))\n",
        "\n",
        "  def forward(self, x: torch.Tensor) -> torch.Tensor:\n",
        "    return self.weights*x + self.bias                 # linear reg. formula\n",
        "                                                      # x is the input data (training/testing features)"
      ],
      "metadata": {
        "id": "5Q7XWplBMREJ"
      },
      "execution_count": 5,
      "outputs": []
    },
    {
      "cell_type": "markdown",
      "source": [
        "NN Model Building Essentials:\n",
        "\n",
        "1. torch.nn:\tContains all of the building blocks for computational graphs (essentially a series of computations executed in a particular way).\n",
        "2. torch.nn.Parameter:\tStores tensors that can be used with nn.Module. If requires_grad=True gradients (used for updating model parameters via gradient descent) are calculated automatically, this is often referred to as \"autograd\".\n",
        "3. torch.nn.Module:\tThe base class for all neural network modules, all the building blocks for neural networks are subclasses. If you're building a neural network in PyTorch, your models should subclass nn.Module. Requires a forward() method be implemented.\n",
        "4. torch.optim:\tContains various optimization algorithms (these tell the model parameters stored in nn.Parameter how to best change to improve gradient descent and in turn reduce the loss).\n",
        "5. def forward():\tAll nn.Module subclasses require a forward() method, this defines the computation that will take place on the data passed to the particular nn.Module (e.g. the linear regression formula).\n",
        "When we pass data to our model, it'll go through the model's forward() method and produce a result using the computation we've defined.\n",
        "\n",
        "We can check our model params/ whats inside model using .parameters()"
      ],
      "metadata": {
        "id": "DyNmYwtWUBFm"
      }
    },
    {
      "cell_type": "code",
      "source": [
        "torch.manual_seed(42) #used to generate pseudo-random numbers, randomly generated numbers can be determined.\n",
        "\n",
        "m0 = linreg() # an instance of model / subclass of nn module\n",
        "\n",
        "list(m0.parameters())"
      ],
      "metadata": {
        "colab": {
          "base_uri": "https://localhost:8080/"
        },
        "id": "Y393AX5rXtnd",
        "outputId": "3cd2e625-730a-4359-d958-fff7e54db0cc"
      },
      "execution_count": 6,
      "outputs": [
        {
          "output_type": "execute_result",
          "data": {
            "text/plain": [
              "[Parameter containing:\n",
              " tensor([0.3367], requires_grad=True),\n",
              " Parameter containing:\n",
              " tensor([0.1288], requires_grad=True)]"
            ]
          },
          "metadata": {},
          "execution_count": 6
        }
      ]
    },
    {
      "cell_type": "code",
      "source": [
        "m0.state_dict() # Python dictionary object that maps each layer to its parameter tensor."
      ],
      "metadata": {
        "colab": {
          "base_uri": "https://localhost:8080/"
        },
        "id": "HgRcqzvfUgw1",
        "outputId": "593833f4-1827-490d-d996-004027d050ac"
      },
      "execution_count": 7,
      "outputs": [
        {
          "output_type": "execute_result",
          "data": {
            "text/plain": [
              "OrderedDict([('weights', tensor([0.3367])), ('bias', tensor([0.1288]))])"
            ]
          },
          "metadata": {},
          "execution_count": 7
        }
      ]
    },
    {
      "cell_type": "code",
      "source": [
        "weight, bias"
      ],
      "metadata": {
        "colab": {
          "base_uri": "https://localhost:8080/"
        },
        "id": "5AyyULSCan_K",
        "outputId": "f0dbd572-4a83-46a8-b0c1-fd676f16257d"
      },
      "execution_count": 8,
      "outputs": [
        {
          "output_type": "execute_result",
          "data": {
            "text/plain": [
              "(0.7, 0.3)"
            ]
          },
          "metadata": {},
          "execution_count": 8
        }
      ]
    },
    {
      "cell_type": "markdown",
      "source": [
        "* \"state_dict\": an integral entity in saving or loading models from PyTorch. Because state_dict objects are Python dictionaries, they can be easily saved, updated, altered, and restored, adding a great deal of modularity to PyTorch models and optimizers. Only layers with learnable parameters (convolutional layers, linear layers, etc.) and registered buffers (batchnorm’s running_mean) have entries in the model’s state_dict. Optimizer objects (torch.optim) also have a state_dict, which contains information about the optimizer’s state, as well as the hyperparameters used.\n",
        "\n",
        "* \"torch.inference_mode()\": turns off a bunch of things (like gradient tracking, which is necessary for training but not for inference) to make forward-passes (data going through the forward() method) faster.\n",
        " used when using a model for inference (making predictions).\n",
        "\n",
        "In older PyTorch torch.no_grad()\n",
        "\n",
        "\n",
        "\n"
      ],
      "metadata": {
        "id": "a2JTohobfE66"
      }
    },
    {
      "cell_type": "code",
      "source": [
        "with torch.inference_mode():\n",
        "  y_pred = m0(X_test)   #pass it the test data X_test to see how closely it predicts y_test.\n",
        "\n",
        "y_pred"
      ],
      "metadata": {
        "colab": {
          "base_uri": "https://localhost:8080/"
        },
        "id": "OqY_EMxHczBh",
        "outputId": "6d67a4e4-bcc3-4f2e-f6c3-676e6230cc3d"
      },
      "execution_count": 9,
      "outputs": [
        {
          "output_type": "execute_result",
          "data": {
            "text/plain": [
              "tensor([[0.3982],\n",
              "        [0.4049],\n",
              "        [0.4116],\n",
              "        [0.4184],\n",
              "        [0.4251],\n",
              "        [0.4318],\n",
              "        [0.4386],\n",
              "        [0.4453],\n",
              "        [0.4520],\n",
              "        [0.4588]])"
            ]
          },
          "metadata": {},
          "execution_count": 9
        }
      ]
    },
    {
      "cell_type": "code",
      "source": [
        "plt_predict(predictions=y_pred)"
      ],
      "metadata": {
        "colab": {
          "base_uri": "https://localhost:8080/",
          "height": 599
        },
        "id": "D5jVFexigBxZ",
        "outputId": "c38ea227-5052-4c43-ce6d-1df9df4cd47d"
      },
      "execution_count": 10,
      "outputs": [
        {
          "output_type": "display_data",
          "data": {
            "text/plain": [
              "<Figure size 1000x700 with 1 Axes>"
            ],
            "image/png": "[encoded data removed]"
          },
          "metadata": {}
        }
      ]
    },
    {
      "cell_type": "markdown",
      "source": [
        "#MODEL TRAINING NEEDS\n",
        "#Loss/ Cost/ Criterion function:\n",
        "Measures how wrong model's predictions (y_preds) are compared to the truth labels (y_test). Lower the better.  Built-in loss functions in torch.nn.\n",
        "\n",
        "1. Mean absolute error (MAE) for regression problems \"torch.nn.L1Loss()\" measures the absolute difference between two points (predictions and labels) and then takes the mean across all examples.\n",
        "\n",
        "2. Binary cross entropy for binary classification problems \"torch.nn.BCELoss()\".\n",
        "\n",
        "#OPTIMIZERS\n",
        "\n",
        "Tells model how to update its internal parameters to best lower the loss. Optimization function implementations in torch.optim.\n",
        "\n",
        "1. Stochastic gradient descent \"torch.optim.SGD(params, lr)\"\n",
        "2. Adam optimizer \"torch.optim.Adam()\".\n",
        "\n",
        "params is the target model parameters to optimize (weights/ bias values we randomly set). Parameter is a value the model itself sets.\n",
        "\n",
        "lr is the learning rate optimizer updates the parameters at, higher means the optimizer will try larger updates (too large and the optimizer will fail to work), lower means the optimizer will try smaller updates (too small will take too long to find the ideal values).Its a hyperparameter. Common starting values for the learning rate are 0.01, 0.001, 0.0001, however, these can also be adjusted over time (this is called learning rate scheduling).\n",
        "\n",
        "#Training loop and test loop"
      ],
      "metadata": {
        "id": "b2FN1DUrj1NM"
      }
    },
    {
      "cell_type": "code",
      "source": [
        "# LOSS MAE\n",
        "lossf = nn.L1Loss()\n",
        "\n",
        "# OPTIMIZER SGD\n",
        "optim = torch.optim.SGD(params = m0.parameters(), lr = 0.01)\n"
      ],
      "metadata": {
        "id": "i1z9DK9BhOF0"
      },
      "execution_count": 11,
      "outputs": []
    },
    {
      "cell_type": "markdown",
      "source": [
        "#Creating an optimization loop in PyTorch\n",
        "1. The training loop involves the model going through the training data and learning the relationships between the features and labels.\n",
        "\n",
        "2. The testing loop involves going through the testing data and evaluating how good the patterns are that the model learned on the training data.\n",
        "\n",
        "* \"loop\": we want our model to loop/look through at each sample in each dataset.\n",
        "\n",
        "# TRAINING LOOP\n",
        "0. Pass the data through model for certain epochs and do:\n",
        "1.\tForward pass/ propagation:\tThe model goes through all of the training data once, performing its forward() function calculations.\tmodel(x_train)\n",
        "2.\tCalculate loss:\tThe model's outputs (forward pass predictions) are compared to the ground truth and evaluated to see how wrong they are.\tloss = loss(y_pred, y_train)\n",
        "3.\tZero gradients:\tThe optimizers gradients are set to zero (accumulated by default) so they can be recalculated for the specific training step.\toptimizer.zero_grad()\n",
        "4.\tPerform backpropagation on the loss:\tComputes the gradient of the loss with respect for every model parameter to be updated (each parameter with requires_grad=True). This is known as backpropagation, hence \"backwards\".\tloss.backward()\n",
        "5.\tUpdate the optimizer: (gradient descent)\tUpdate the parameters with requires_grad=True with respect to the loss gradients in order to improve them.\toptimizer.step()\n",
        "\n",
        "\n",
        "*   Calculate the loss before performing backpropagation on it.\n",
        "*   Zero gradients before computing the gradients of the loss wrt every model parameter.\n",
        "*   Step the optimizer after performing backpropagation on the loss.\n",
        "\n",
        "# TESTING LOOP\n",
        "\n",
        "1.\tForward pass:\tThe model goes through all of the testing data once, performing its forward() function calculations.\tmodel(x_test)\n",
        "2.\tCalculate loss:\tloss = loss_fn(y_pred, y_test)\n",
        "3.\tCalulate evaluation metrics (optional):\tAlongside the loss value calculate other evaluation metrics such as accuracy on the test set."
      ],
      "metadata": {
        "id": "h2nYhzXirepl"
      }
    },
    {
      "cell_type": "code",
      "source": [
        "torch.manual_seed(42)\n",
        "epochs = 195\n",
        "\n",
        "# Track different values for model progress (empty loss list)\n",
        "epoch_count = []\n",
        "loss_values = []\n",
        "test_loss_values = []\n",
        "\n",
        "## TRAINING\n",
        "\n",
        "for epoch in range(epochs):      # 0. Loop throught data\n",
        "  m0.train()                     #    set model in tain mode (model dafault state)\n",
        "                                 #    train mode in pytorch sets all params requiring gradients to require gradients\n",
        "  y_pred = m0(X_train)           # 1. fwd pass performs the forward() method located within the model object\n",
        "  loss = lossf(y_pred, y_train)  # 2. Calculate loss value (how wrong are predictions)\n",
        "  optim.zero_grad()              # 3. Zero the optimizer gradients (accumulate at every epoch, zero to reset at every fwd pass)\n",
        "  loss.backward()                # 4. Perform backprop on the loss fn (compute gradient of every params having requires_grad =True)\n",
        "  optim.step()                   # 5. Progress optimizer/ gradient descent. Update model params wrt gradients calculated by (4)\n",
        "                                 #    we calculate gradient to head opp. to it to get a gradient value =0 and loss =0 [convergence]\n",
        "## TESTING\n",
        "\n",
        "  m0.eval()                         #    Turns off dropout/batchnorm/ settings not needed for testing\n",
        "  with torch.inference_mode():      #    Turns off gradient tracking for inference, etc\n",
        "    t_pred = m0(X_test)             # 1. Fwd pass\n",
        "    t_loss = lossf(t_pred, y_test)  # 2. loss\n",
        "\n",
        "  if epoch % 10 == 0:               # evaluate it every 10 epochs\n",
        "    epoch_count.append(epoch)\n",
        "    loss_values.append(loss.detach().numpy())\n",
        "    test_loss_values.append(t_loss.detach().numpy())\n",
        "    print(f'Epoch: {epoch} | MAE Train Loss: {loss}| MAE Test Loss: {t_loss} ')\n",
        "    print(m0.state_dict())"
      ],
      "metadata": {
        "id": "C-aRnO6RosE1",
        "colab": {
          "base_uri": "https://localhost:8080/"
        },
        "collapsed": true,
        "outputId": "eb98f129-bb07-4657-a01c-9910d8b84b63"
      },
      "execution_count": 12,
      "outputs": [
        {
          "output_type": "stream",
          "name": "stdout",
          "text": [
            "Epoch: 0 | MAE Train Loss: 0.31288138031959534| MAE Test Loss: 0.48106518387794495 \n",
            "OrderedDict([('weights', tensor([0.3406])), ('bias', tensor([0.1388]))])\n",
            "Epoch: 10 | MAE Train Loss: 0.1976713240146637| MAE Test Loss: 0.3463551998138428 \n",
            "OrderedDict([('weights', tensor([0.3796])), ('bias', tensor([0.2388]))])\n",
            "Epoch: 20 | MAE Train Loss: 0.08908725529909134| MAE Test Loss: 0.21729660034179688 \n",
            "OrderedDict([('weights', tensor([0.4184])), ('bias', tensor([0.3333]))])\n",
            "Epoch: 30 | MAE Train Loss: 0.053148526698350906| MAE Test Loss: 0.14464017748832703 \n",
            "OrderedDict([('weights', tensor([0.4512])), ('bias', tensor([0.3768]))])\n",
            "Epoch: 40 | MAE Train Loss: 0.04543796554207802| MAE Test Loss: 0.11360953003168106 \n",
            "OrderedDict([('weights', tensor([0.4748])), ('bias', tensor([0.3868]))])\n",
            "Epoch: 50 | MAE Train Loss: 0.04167863354086876| MAE Test Loss: 0.09919948130846024 \n",
            "OrderedDict([('weights', tensor([0.4938])), ('bias', tensor([0.3843]))])\n",
            "Epoch: 60 | MAE Train Loss: 0.03818932920694351| MAE Test Loss: 0.08886633068323135 \n",
            "OrderedDict([('weights', tensor([0.5116])), ('bias', tensor([0.3788]))])\n",
            "Epoch: 70 | MAE Train Loss: 0.03476089984178543| MAE Test Loss: 0.0805937647819519 \n",
            "OrderedDict([('weights', tensor([0.5288])), ('bias', tensor([0.3718]))])\n",
            "Epoch: 80 | MAE Train Loss: 0.03132382780313492| MAE Test Loss: 0.07232122868299484 \n",
            "OrderedDict([('weights', tensor([0.5459])), ('bias', tensor([0.3648]))])\n",
            "Epoch: 90 | MAE Train Loss: 0.02788739837706089| MAE Test Loss: 0.06473556160926819 \n",
            "OrderedDict([('weights', tensor([0.5629])), ('bias', tensor([0.3573]))])\n",
            "Epoch: 100 | MAE Train Loss: 0.024458957836031914| MAE Test Loss: 0.05646304413676262 \n",
            "OrderedDict([('weights', tensor([0.5800])), ('bias', tensor([0.3503]))])\n",
            "Epoch: 110 | MAE Train Loss: 0.021020207554101944| MAE Test Loss: 0.04819049686193466 \n",
            "OrderedDict([('weights', tensor([0.5972])), ('bias', tensor([0.3433]))])\n",
            "Epoch: 120 | MAE Train Loss: 0.01758546568453312| MAE Test Loss: 0.04060482233762741 \n",
            "OrderedDict([('weights', tensor([0.6141])), ('bias', tensor([0.3358]))])\n",
            "Epoch: 130 | MAE Train Loss: 0.014155393466353416| MAE Test Loss: 0.03233227878808975 \n",
            "OrderedDict([('weights', tensor([0.6313])), ('bias', tensor([0.3288]))])\n",
            "Epoch: 140 | MAE Train Loss: 0.010716589167714119| MAE Test Loss: 0.024059748277068138 \n",
            "OrderedDict([('weights', tensor([0.6485])), ('bias', tensor([0.3218]))])\n",
            "Epoch: 150 | MAE Train Loss: 0.0072835334576666355| MAE Test Loss: 0.016474086791276932 \n",
            "OrderedDict([('weights', tensor([0.6654])), ('bias', tensor([0.3143]))])\n",
            "Epoch: 160 | MAE Train Loss: 0.0038517764769494534| MAE Test Loss: 0.008201557211577892 \n",
            "OrderedDict([('weights', tensor([0.6826])), ('bias', tensor([0.3073]))])\n",
            "Epoch: 170 | MAE Train Loss: 0.008932482451200485| MAE Test Loss: 0.005023092031478882 \n",
            "OrderedDict([('weights', tensor([0.6951])), ('bias', tensor([0.2993]))])\n",
            "Epoch: 180 | MAE Train Loss: 0.008932482451200485| MAE Test Loss: 0.005023092031478882 \n",
            "OrderedDict([('weights', tensor([0.6951])), ('bias', tensor([0.2993]))])\n",
            "Epoch: 190 | MAE Train Loss: 0.008932482451200485| MAE Test Loss: 0.005023092031478882 \n",
            "OrderedDict([('weights', tensor([0.6951])), ('bias', tensor([0.2993]))])\n"
          ]
        }
      ]
    },
    {
      "cell_type": "code",
      "source": [
        "with torch.inference_mode():\n",
        "  y_pred = m0(X_test)   #pass it the test data X_test to see how closely it predicts y_test.\n",
        "plt_predict(predictions=y_pred)\n"
      ],
      "metadata": {
        "colab": {
          "base_uri": "https://localhost:8080/",
          "height": 599
        },
        "id": "_Mhj_QXQZfB4",
        "outputId": "ac479158-a744-40ed-9b7c-f91a386fd3ca"
      },
      "execution_count": 13,
      "outputs": [
        {
          "output_type": "display_data",
          "data": {
            "text/plain": [
              "<Figure size 1000x700 with 1 Axes>"
            ],
            "image/png": "[encoded data removed]"
          },
          "metadata": {}
        }
      ]
    },
    {
      "cell_type": "code",
      "source": [
        "## Plot LOSS Curves\n",
        "plt.plot(epoch_count, loss_values, label='Train Loss')\n",
        "plt.plot(epoch_count, test_loss_values, label='Test Loss')\n",
        "plt.title('Training and Test loss curves')\n",
        "plt.ylabel('Loss')\n",
        "plt.xlabel('Epochs')\n",
        "plt.legend();\n",
        "\n"
      ],
      "metadata": {
        "colab": {
          "base_uri": "https://localhost:8080/",
          "height": 472
        },
        "id": "e8nSmaWu8FFm",
        "outputId": "164b6747-3bf6-40de-86d6-c9b12709299d"
      },
      "execution_count": 14,
      "outputs": [
        {
          "output_type": "display_data",
          "data": {
            "text/plain": [
              "<Figure size 640x480 with 1 Axes>"
            ],
            "image/png": "[encoded data removed]"
          },
          "metadata": {}
        }
      ]
    },
    {
      "cell_type": "markdown",
      "source": [
        "# Saving and loading a PyTorch model\n",
        "1. torch.save:\tSaves a serialized object to disk using Python's pickle utility. Models, tensors and various other Python objects like dictionaries can be saved using torch.save.\n",
        "2. torch.load:\tUses pickle's unpickling features to deserialize and load pickled Python object files ^ into memory. Can also set which device to load the object to (CPU, GPU etc).\n",
        "3. torch.nn.Module.load_state_dict:\tLoads a model's parameter dictionary (model.state_dict()) using a saved state_dict() object.\n",
        "\n",
        "* We save the model's state_dict(), dictionary of learned parameters and not the entire model. We first load the state_dict() with torch.load() and then pass that state_dict() to a new instance of our model (a subclass of nn.Module).\n",
        "\n",
        "* Disadvantage of saving the whole model: serialized data is bound to the specific classes and the exact directory structure used when the model is saved. Because of this, our code can break in various ways when used in other projects or after refactors."
      ],
      "metadata": {
        "id": "ul4inzb3PdDc"
      }
    },
    {
      "cell_type": "code",
      "source": [
        "## SAVING A PYTORCH MODEL\n",
        "from pathlib import Path\n",
        "\n",
        "# 1. Create Model Directory\n",
        "MODEL_PATH = Path('models')\n",
        "MODEL_PATH.mkdir(parents=True, exist_ok=True)\n",
        "\n",
        "# 2. Create Model Save Path\n",
        "MODEL_NAME = \"model_0.pth\"\n",
        "MODEL_SAVE_PATH = MODEL_PATH / MODEL_NAME\n",
        "\n",
        "# 3. Save Model state_dict\n",
        "print(f'Saving model to {MODEL_SAVE_PATH}')\n",
        "torch.save(obj = m0.state_dict(),\n",
        "             f = MODEL_SAVE_PATH)\n"
      ],
      "metadata": {
        "colab": {
          "base_uri": "https://localhost:8080/"
        },
        "id": "wddUbEEVPcXO",
        "outputId": "4b0213b5-9918-413d-b8b6-ad52cef2009e"
      },
      "execution_count": 15,
      "outputs": [
        {
          "output_type": "stream",
          "name": "stdout",
          "text": [
            "Saving model to models/model_0.pth\n"
          ]
        }
      ]
    },
    {
      "cell_type": "code",
      "source": [
        "!ls -l models/model_0.pth"
      ],
      "metadata": {
        "colab": {
          "base_uri": "https://localhost:8080/"
        },
        "id": "YZ7RCnY7YI3T",
        "outputId": "7764ea6d-5285-43e4-83bd-d33fa87d235b"
      },
      "execution_count": 16,
      "outputs": [
        {
          "output_type": "stream",
          "name": "stdout",
          "text": [
            "-rw-r--r-- 1 root root 1496 Sep 13 17:41 models/model_0.pth\n"
          ]
        }
      ]
    },
    {
      "cell_type": "code",
      "source": [
        "## LOADING A PYTORCH MODEL\n",
        "\n",
        "# Instantiate a new instance of our model (this will be instantiated with random weights)\n",
        "load0 = linreg()\n",
        "\n",
        "# Load the state_dict of our saved model (this will update the new instance of our model with trained weights)\n",
        "load0.load_state_dict(torch.load(f = MODEL_SAVE_PATH))"
      ],
      "metadata": {
        "colab": {
          "base_uri": "https://localhost:8080/"
        },
        "id": "WW3I59YPY3VG",
        "outputId": "beb586f0-7b5e-4772-dc99-48320cfc48ef"
      },
      "execution_count": 17,
      "outputs": [
        {
          "output_type": "stream",
          "name": "stderr",
          "text": [
            "<ipython-input-17-da41027e4d01>:7: FutureWarning: You are using `torch.load` with `weights_only=False` (the current default value), which uses the default pickle module implicitly. It is possible to construct malicious pickle data which will execute arbitrary code during unpickling (See https://github.com/pytorch/pytorch/blob/main/SECURITY.md#untrusted-models for more details). In a future release, the default value for `weights_only` will be flipped to `True`. This limits the functions that could be executed during unpickling. Arbitrary objects will no longer be allowed to be loaded via this mode unless they are explicitly allowlisted by the user via `torch.serialization.add_safe_globals`. We recommend you start setting `weights_only=True` for any use case where you don't have full control of the loaded file. Please open an issue on GitHub for any issues related to this experimental feature.\n",
            "  load0.load_state_dict(torch.load(f = MODEL_SAVE_PATH))\n"
          ]
        },
        {
          "output_type": "execute_result",
          "data": {
            "text/plain": [
              "<All keys matched successfully>"
            ]
          },
          "metadata": {},
          "execution_count": 17
        }
      ]
    },
    {
      "cell_type": "code",
      "source": [
        "\n",
        "# 1. Put the loaded model into evaluation mode\n",
        "load0.eval()\n",
        "\n",
        "# 2. Use the inference mode context manager to make predictions\n",
        "with torch.inference_mode():\n",
        "  loadpred = load0(X_test)\n",
        "\n",
        "loadpred"
      ],
      "metadata": {
        "colab": {
          "base_uri": "https://localhost:8080/"
        },
        "id": "2UhTss7bcEKL",
        "outputId": "d41f8c5f-4f9a-424d-fb0a-e6fef37abd1c"
      },
      "execution_count": 18,
      "outputs": [
        {
          "output_type": "execute_result",
          "data": {
            "text/plain": [
              "tensor([[0.8554],\n",
              "        [0.8693],\n",
              "        [0.8832],\n",
              "        [0.8971],\n",
              "        [0.9110],\n",
              "        [0.9249],\n",
              "        [0.9388],\n",
              "        [0.9527],\n",
              "        [0.9666],\n",
              "        [0.9805]])"
            ]
          },
          "metadata": {},
          "execution_count": 18
        }
      ]
    },
    {
      "cell_type": "code",
      "source": [
        "# Compare previous model predictions with loaded model predictions (these should be the same)\n",
        "y_pred == loadpred"
      ],
      "metadata": {
        "colab": {
          "base_uri": "https://localhost:8080/"
        },
        "id": "y_0FCASBdHXX",
        "outputId": "5a7447c8-4824-41ef-be60-109054471637"
      },
      "execution_count": 19,
      "outputs": [
        {
          "output_type": "execute_result",
          "data": {
            "text/plain": [
              "tensor([[True],\n",
              "        [True],\n",
              "        [True],\n",
              "        [True],\n",
              "        [True],\n",
              "        [True],\n",
              "        [True],\n",
              "        [True],\n",
              "        [True],\n",
              "        [True]])"
            ]
          },
          "metadata": {},
          "execution_count": 19
        }
      ]
    }
  ]
}